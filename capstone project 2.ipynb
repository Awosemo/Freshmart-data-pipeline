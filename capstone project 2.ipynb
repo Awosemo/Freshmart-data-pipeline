{
 "cells": [
  {
   "cell_type": "code",
   "execution_count": 210,
   "id": "f069f80d-049f-4ca8-8b9f-af3be39fff49",
   "metadata": {},
   "outputs": [],
   "source": [
    "import pandas as pd"
   ]
  },
  {
   "cell_type": "code",
   "execution_count": 211,
   "id": "7ab2fc93-4179-4252-b7a6-68ed34526f6e",
   "metadata": {},
   "outputs": [],
   "source": [
    "data = pd.read_csv(\"freshmart_products_csv.csv\")\n",
    "\n"
   ]
  },
  {
   "cell_type": "code",
   "execution_count": 212,
   "id": "90741e82-f80a-4ce9-9d81-5b8dc7d2e20e",
   "metadata": {},
   "outputs": [
    {
     "data": {
      "text/html": [
       "<div>\n",
       "<style scoped>\n",
       "    .dataframe tbody tr th:only-of-type {\n",
       "        vertical-align: middle;\n",
       "    }\n",
       "\n",
       "    .dataframe tbody tr th {\n",
       "        vertical-align: top;\n",
       "    }\n",
       "\n",
       "    .dataframe thead th {\n",
       "        text-align: right;\n",
       "    }\n",
       "</style>\n",
       "<table border=\"1\" class=\"dataframe\">\n",
       "  <thead>\n",
       "    <tr style=\"text-align: right;\">\n",
       "      <th></th>\n",
       "      <th>ProductID</th>\n",
       "      <th>ProductName</th>\n",
       "      <th>Category</th>\n",
       "      <th>Price</th>\n",
       "      <th>StockQuantity</th>\n",
       "    </tr>\n",
       "  </thead>\n",
       "  <tbody>\n",
       "    <tr>\n",
       "      <th>0</th>\n",
       "      <td>1</td>\n",
       "      <td>Milk 1</td>\n",
       "      <td>Dairy</td>\n",
       "      <td>19.35</td>\n",
       "      <td>358.0</td>\n",
       "    </tr>\n",
       "    <tr>\n",
       "      <th>1</th>\n",
       "      <td>2</td>\n",
       "      <td>Cola 2</td>\n",
       "      <td>Beverages</td>\n",
       "      <td>9.99</td>\n",
       "      <td>81.0</td>\n",
       "    </tr>\n",
       "    <tr>\n",
       "      <th>2</th>\n",
       "      <td>3</td>\n",
       "      <td>Banana 3</td>\n",
       "      <td>Produce</td>\n",
       "      <td>30.33</td>\n",
       "      <td>112.0</td>\n",
       "    </tr>\n",
       "    <tr>\n",
       "      <th>3</th>\n",
       "      <td>4</td>\n",
       "      <td>Cream 4</td>\n",
       "      <td>Dairy</td>\n",
       "      <td>22.85</td>\n",
       "      <td>224.0</td>\n",
       "    </tr>\n",
       "    <tr>\n",
       "      <th>4</th>\n",
       "      <td>5</td>\n",
       "      <td>Cream 5</td>\n",
       "      <td>Dairy</td>\n",
       "      <td>3.85</td>\n",
       "      <td>97.0</td>\n",
       "    </tr>\n",
       "  </tbody>\n",
       "</table>\n",
       "</div>"
      ],
      "text/plain": [
       "   ProductID ProductName   Category  Price  StockQuantity\n",
       "0          1      Milk 1      Dairy  19.35          358.0\n",
       "1          2      Cola 2  Beverages   9.99           81.0\n",
       "2          3    Banana 3    Produce  30.33          112.0\n",
       "3          4     Cream 4      Dairy  22.85          224.0\n",
       "4          5     Cream 5      Dairy   3.85           97.0"
      ]
     },
     "execution_count": 212,
     "metadata": {},
     "output_type": "execute_result"
    }
   ],
   "source": [
    "data.head()"
   ]
  },
  {
   "cell_type": "code",
   "execution_count": 213,
   "id": "b6da19a2-ddbe-4c01-81c2-1f08af76e1ee",
   "metadata": {},
   "outputs": [
    {
     "data": {
      "text/plain": [
       "(205, 5)"
      ]
     },
     "execution_count": 213,
     "metadata": {},
     "output_type": "execute_result"
    }
   ],
   "source": [
    "data.shape\n"
   ]
  },
  {
   "cell_type": "code",
   "execution_count": 214,
   "id": "105c1dbe-a964-45cc-a13e-f89bf20abbac",
   "metadata": {},
   "outputs": [
    {
     "name": "stdout",
     "output_type": "stream",
     "text": [
      "<class 'pandas.core.frame.DataFrame'>\n",
      "RangeIndex: 205 entries, 0 to 204\n",
      "Data columns (total 5 columns):\n",
      " #   Column         Non-Null Count  Dtype  \n",
      "---  ------         --------------  -----  \n",
      " 0   ProductID      205 non-null    int64  \n",
      " 1   ProductName    205 non-null    object \n",
      " 2   Category       205 non-null    object \n",
      " 3   Price          200 non-null    float64\n",
      " 4   StockQuantity  200 non-null    float64\n",
      "dtypes: float64(2), int64(1), object(2)\n",
      "memory usage: 8.1+ KB\n"
     ]
    }
   ],
   "source": [
    "data.info()"
   ]
  },
  {
   "cell_type": "code",
   "execution_count": 215,
   "id": "130ffecc-fe02-4eec-a1cc-8f8a3a5d34b5",
   "metadata": {},
   "outputs": [
    {
     "data": {
      "text/plain": [
       "ProductID        0\n",
       "ProductName      0\n",
       "Category         0\n",
       "Price            5\n",
       "StockQuantity    5\n",
       "dtype: int64"
      ]
     },
     "execution_count": 215,
     "metadata": {},
     "output_type": "execute_result"
    }
   ],
   "source": [
    "data.isnull().sum() # have a preview of the null values in our dataset\n"
   ]
  },
  {
   "cell_type": "code",
   "execution_count": 216,
   "id": "6a4b212f-0e76-4ae2-b497-656b402c4278",
   "metadata": {},
   "outputs": [],
   "source": [
    "# Drop rows with any null values\n",
    "data = data.dropna()"
   ]
  },
  {
   "cell_type": "code",
   "execution_count": 217,
   "id": "10bcd4d4-a7c9-49d2-aafe-ca6dc12a0873",
   "metadata": {},
   "outputs": [
    {
     "data": {
      "text/plain": [
       "ProductID        0\n",
       "ProductName      0\n",
       "Category         0\n",
       "Price            0\n",
       "StockQuantity    0\n",
       "dtype: int64"
      ]
     },
     "execution_count": 217,
     "metadata": {},
     "output_type": "execute_result"
    }
   ],
   "source": [
    "data.isnull().sum() # have a preview of the null values in our dataset\n"
   ]
  },
  {
   "cell_type": "code",
   "execution_count": 218,
   "id": "beaaacdc-3878-489e-98a0-b4ef0f597c98",
   "metadata": {},
   "outputs": [
    {
     "name": "stdout",
     "output_type": "stream",
     "text": [
      "0      False\n",
      "1      False\n",
      "2      False\n",
      "3      False\n",
      "4      False\n",
      "       ...  \n",
      "200     True\n",
      "201     True\n",
      "202    False\n",
      "203     True\n",
      "204     True\n",
      "Length: 195, dtype: bool\n"
     ]
    }
   ],
   "source": [
    "print(data.duplicated())  # Returns True for duplicate rows"
   ]
  },
  {
   "cell_type": "code",
   "execution_count": 219,
   "id": "0e82d69c-f6f5-48db-adea-bd7e252256e1",
   "metadata": {},
   "outputs": [
    {
     "data": {
      "text/plain": [
       "4"
      ]
     },
     "execution_count": 219,
     "metadata": {},
     "output_type": "execute_result"
    }
   ],
   "source": [
    "data.duplicated().sum() # Count duplicate rows"
   ]
  },
  {
   "cell_type": "code",
   "execution_count": 220,
   "id": "73477e40-cb4a-4782-a2ba-4fca3061a99d",
   "metadata": {},
   "outputs": [],
   "source": [
    "data = data.drop_duplicates()"
   ]
  },
  {
   "cell_type": "code",
   "execution_count": 221,
   "id": "fe194349-0f4a-4615-8696-54a0c3b4ef75",
   "metadata": {},
   "outputs": [
    {
     "data": {
      "text/plain": [
       "0"
      ]
     },
     "execution_count": 221,
     "metadata": {},
     "output_type": "execute_result"
    }
   ],
   "source": [
    "data.duplicated().sum() "
   ]
  },
  {
   "cell_type": "code",
   "execution_count": 222,
   "id": "f2a77a30-9011-4849-a5e5-609cf0491a55",
   "metadata": {},
   "outputs": [
    {
     "name": "stdout",
     "output_type": "stream",
     "text": [
      "<class 'pandas.core.frame.DataFrame'>\n",
      "Index: 191 entries, 0 to 202\n",
      "Data columns (total 5 columns):\n",
      " #   Column         Non-Null Count  Dtype  \n",
      "---  ------         --------------  -----  \n",
      " 0   ProductID      191 non-null    int64  \n",
      " 1   ProductName    191 non-null    object \n",
      " 2   Category       191 non-null    object \n",
      " 3   Price          191 non-null    float64\n",
      " 4   StockQuantity  191 non-null    float64\n",
      "dtypes: float64(2), int64(1), object(2)\n",
      "memory usage: 9.0+ KB\n"
     ]
    }
   ],
   "source": [
    "data.info()"
   ]
  },
  {
   "cell_type": "code",
   "execution_count": 223,
   "id": "6204813e-7fa7-4f93-bf97-71e1f5e9cc16",
   "metadata": {},
   "outputs": [],
   "source": [
    "data[\"StockValue\"] = data[\"Price\"] * data[\"StockQuantity\"]"
   ]
  },
  {
   "cell_type": "code",
   "execution_count": 224,
   "id": "c7662463-02c6-420f-bbbd-8f3b224a9ffe",
   "metadata": {},
   "outputs": [
    {
     "data": {
      "text/html": [
       "<div>\n",
       "<style scoped>\n",
       "    .dataframe tbody tr th:only-of-type {\n",
       "        vertical-align: middle;\n",
       "    }\n",
       "\n",
       "    .dataframe tbody tr th {\n",
       "        vertical-align: top;\n",
       "    }\n",
       "\n",
       "    .dataframe thead th {\n",
       "        text-align: right;\n",
       "    }\n",
       "</style>\n",
       "<table border=\"1\" class=\"dataframe\">\n",
       "  <thead>\n",
       "    <tr style=\"text-align: right;\">\n",
       "      <th></th>\n",
       "      <th>ProductID</th>\n",
       "      <th>ProductName</th>\n",
       "      <th>Category</th>\n",
       "      <th>Price</th>\n",
       "      <th>StockQuantity</th>\n",
       "      <th>StockValue</th>\n",
       "    </tr>\n",
       "  </thead>\n",
       "  <tbody>\n",
       "    <tr>\n",
       "      <th>0</th>\n",
       "      <td>1</td>\n",
       "      <td>Milk 1</td>\n",
       "      <td>Dairy</td>\n",
       "      <td>19.35</td>\n",
       "      <td>358.0</td>\n",
       "      <td>6927.30</td>\n",
       "    </tr>\n",
       "    <tr>\n",
       "      <th>1</th>\n",
       "      <td>2</td>\n",
       "      <td>Cola 2</td>\n",
       "      <td>Beverages</td>\n",
       "      <td>9.99</td>\n",
       "      <td>81.0</td>\n",
       "      <td>809.19</td>\n",
       "    </tr>\n",
       "    <tr>\n",
       "      <th>2</th>\n",
       "      <td>3</td>\n",
       "      <td>Banana 3</td>\n",
       "      <td>Produce</td>\n",
       "      <td>30.33</td>\n",
       "      <td>112.0</td>\n",
       "      <td>3396.96</td>\n",
       "    </tr>\n",
       "    <tr>\n",
       "      <th>3</th>\n",
       "      <td>4</td>\n",
       "      <td>Cream 4</td>\n",
       "      <td>Dairy</td>\n",
       "      <td>22.85</td>\n",
       "      <td>224.0</td>\n",
       "      <td>5118.40</td>\n",
       "    </tr>\n",
       "    <tr>\n",
       "      <th>4</th>\n",
       "      <td>5</td>\n",
       "      <td>Cream 5</td>\n",
       "      <td>Dairy</td>\n",
       "      <td>3.85</td>\n",
       "      <td>97.0</td>\n",
       "      <td>373.45</td>\n",
       "    </tr>\n",
       "  </tbody>\n",
       "</table>\n",
       "</div>"
      ],
      "text/plain": [
       "   ProductID ProductName   Category  Price  StockQuantity  StockValue\n",
       "0          1      Milk 1      Dairy  19.35          358.0     6927.30\n",
       "1          2      Cola 2  Beverages   9.99           81.0      809.19\n",
       "2          3    Banana 3    Produce  30.33          112.0     3396.96\n",
       "3          4     Cream 4      Dairy  22.85          224.0     5118.40\n",
       "4          5     Cream 5      Dairy   3.85           97.0      373.45"
      ]
     },
     "execution_count": 224,
     "metadata": {},
     "output_type": "execute_result"
    }
   ],
   "source": [
    "data.head()"
   ]
  },
  {
   "cell_type": "code",
   "execution_count": 225,
   "id": "1bbed8dc-436d-4bcf-984a-48e0ee4de79c",
   "metadata": {},
   "outputs": [
    {
     "name": "stdout",
     "output_type": "stream",
     "text": [
      "            AvgPrice  TotalStock\n",
      "Category                        \n",
      "Bakery     22.788286      9699.0\n",
      "Bevarages   9.360000       176.0\n",
      "Beverages  25.427179     10815.0\n",
      "Dairy      24.570000      9240.0\n",
      "Produce    25.148684      9221.0\n",
      "Snacks     25.231892     10673.0\n",
      "dairy       9.990000       469.0\n",
      "snakcs     21.830000        63.0\n"
     ]
    }
   ],
   "source": [
    "# Aggregate the data\n",
    "result =data.groupby(\"Category\").agg(AvgPrice=(\"Price\", \"mean\"),TotalStock=(\"StockQuantity\", \"sum\"))\n",
    "print(result)"
   ]
  },
  {
   "cell_type": "code",
   "execution_count": 226,
   "id": "ac945c16-db0b-45bb-8a63-92d0d8287d2b",
   "metadata": {},
   "outputs": [
    {
     "name": "stdout",
     "output_type": "stream",
     "text": [
      "✅ Connection successful!\n",
      "Database version: ('PostgreSQL 17.5 on x86_64-windows, compiled by msvc-19.44.35209, 64-bit',)\n"
     ]
    }
   ],
   "source": [
    "import psycopg2\n",
    "\n",
    "# Connection parameters\n",
    "host = \"localhost\"      # or your server IP\n",
    "dbname = \"Freshmart\"\n",
    "user = \"postgres\"\n",
    "password = \"sheymoore2005\"\n",
    "port = \"5432\"           # default PostgreSQL port\n",
    "\n",
    "try:\n",
    "    # Establish connection\n",
    "    conn = psycopg2.connect(\n",
    "        host=host,\n",
    "        database=dbname,\n",
    "        user=user,\n",
    "        password=password,\n",
    "        port=port\n",
    "    )\n",
    "    \n",
    "    # Create a cursor\n",
    "    cursor = conn.cursor()\n",
    "    \n",
    "    print(\"✅ Connection successful!\")\n",
    "    \n",
    "    # Example query\n",
    "    cursor.execute(\"SELECT version();\")\n",
    "    db_version = cursor.fetchone()\n",
    "    print(\"Database version:\", db_version)\n",
    "    \n",
    "    # Close cursor and connection\n",
    "    #cursor.close()\n",
    "   # conn.close()\n",
    "\n",
    "except Exception as e:\n",
    "    print(\"❌ Error connecting to database:\", e)\n"
   ]
  },
  {
   "cell_type": "code",
   "execution_count": 227,
   "id": "281d0420-240f-43c7-98e5-8e6d73c45601",
   "metadata": {},
   "outputs": [
    {
     "name": "stdout",
     "output_type": "stream",
     "text": [
      "✅ ETL load successful!\n"
     ]
    }
   ],
   "source": [
    "cursor.execute(\"\"\"\n",
    "        CREATE TABLE IF NOT EXISTS freshmart_products (\n",
    "            ProductID INT PRIMARY KEY,\n",
    "            ProductName TEXT NOT NULL,\n",
    "            Category TEXT NOT NULL,\n",
    "            Price NUMERIC(10,2) NOT NULL,\n",
    "            StockQuantity INT NOT NULL\n",
    "        );\n",
    "    \"\"\")\n",
    "conn.commit()\n",
    "\n",
    "    # Insert rows from DataFrame\n",
    "for _, row in data.iterrows():\n",
    "    cursor.execute(\"\"\"\n",
    "    INSERT INTO freshmart_products (ProductID, ProductName, Category, Price, StockQuantity)\n",
    "    VALUES (%s, %s, %s, %s, %s)\n",
    "    ON CONFLICT (ProductID) DO UPDATE\n",
    "    SET ProductName = EXCLUDED.ProductName,\n",
    "    Category = EXCLUDED.Category,\n",
    "    Price = EXCLUDED.Price,\n",
    "    StockQuantity = EXCLUDED.StockQuantity;\n",
    "    \"\"\", (int(row[\"ProductID\"]), row[\"ProductName\"], row[\"Category\"], float(row[\"Price\"]), int(row[\"StockQuantity\"])))\n",
    "conn.commit()\n",
    "print(\"✅ ETL load successful!\")"
   ]
  },
  {
   "cell_type": "code",
   "execution_count": 228,
   "id": "611b978e-871d-4fc0-9c24-2255ce4ea9e7",
   "metadata": {},
   "outputs": [
    {
     "name": "stdout",
     "output_type": "stream",
     "text": [
      "All Dairy Products:\n",
      " productid productname category  price  stockquantity\n",
      "         1      Milk 1    Dairy  19.35            358\n",
      "        70   Yogurt 70    Dairy  38.02             45\n",
      "        80   Yogurt 80    Dairy   6.39            386\n",
      "         4     Cream 4    Dairy  22.85            224\n",
      "         5     Cream 5    Dairy   3.85             97\n",
      "        10    Cream 10    Dairy   1.04            453\n",
      "        19   Butter 19    Dairy  49.18            140\n",
      "        20   Yogurt 20    Dairy  43.14            144\n",
      "        24   Butter 24    Dairy  19.89            355\n",
      "        25    Cream 25    Dairy   5.79            349\n",
      "        29   Cheese 29    Dairy  20.16             59\n",
      "        58     Milk 58    Dairy  24.14            110\n",
      "        61   Butter 61    Dairy  12.56            407\n",
      "        82   Cheese 82    Dairy  41.08            242\n",
      "        84   Butter 84    Dairy  26.03            146\n",
      "        85    Cream 85    Dairy  24.76            234\n",
      "        95   Cheese 95    Dairy  48.85            229\n",
      "       101    Milk 101    Dairy  30.04            448\n",
      "       103  Yogurt 103    Dairy  12.87            303\n",
      "       104   Cream 104    Dairy  19.02            381\n",
      "       112  Butter 112    Dairy  26.09            156\n",
      "       115    Milk 115    Dairy  20.48             48\n",
      "       116  Butter 116    Dairy  46.90            138\n",
      "       125    Milk 125    Dairy  28.36            169\n",
      "       127  Cheese 127    Dairy  14.66            156\n",
      "       131  Cheese 131    Dairy  42.70            122\n",
      "       140  Yogurt 140    Dairy   1.89            407\n",
      "       141    Milk 141    Dairy  16.94            413\n",
      "       149   Cream 149    Dairy  44.71            292\n",
      "       161  Butter 161    Dairy  21.98            190\n",
      "       163    Milk 163    Dairy  42.80            200\n",
      "       167  Cheese 167    Dairy  28.28            232\n",
      "       172   Cream 172    Dairy  13.45            499\n",
      "       175    Milk 175    Dairy  35.42            185\n",
      "       195  Yogurt 195    Dairy  31.52            205\n",
      "        65     Milk 65    Dairy  10.88            361\n",
      "       184    Milk 184    Dairy  17.56            101\n",
      "       189    Milk 189    Dairy  42.11             67\n",
      "       190  Cheese 190    Dairy   2.49            189\n",
      "\n",
      " Products with StockQuantity < 50:\n",
      " productid     productname  category  price  stockquantity\n",
      "        70       Yogurt 70     Dairy  38.02             45\n",
      "        30 Orange Juice 30 Beverages  33.46             11\n",
      "        57        Bread 57    Bakery  14.46             44\n",
      "       115        Milk 115     Dairy  20.48             48\n",
      "       126       Chips 126    Snacks  32.02             18\n",
      "       146       Apple 146   Produce  32.18             31\n",
      "       147       Chips 147    Snacks  12.96             47\n",
      "       154 Granola Bar 154    Snacks  25.46             13\n",
      "       158   Croissant 158    Bakery  14.70             15\n",
      "       166      Carrot 166   Produce  24.78             27\n"
     ]
    },
    {
     "name": "stderr",
     "output_type": "stream",
     "text": [
      "C:\\Users\\USER\\AppData\\Local\\Temp\\ipykernel_7464\\385724960.py:3: UserWarning: pandas only supports SQLAlchemy connectable (engine/connection) or database string URI or sqlite3 DBAPI2 connection. Other DBAPI2 objects are not tested. Please consider using SQLAlchemy.\n",
      "  data_dairy = pd.read_sql(query_dairy, conn)\n",
      "C:\\Users\\USER\\AppData\\Local\\Temp\\ipykernel_7464\\385724960.py:9: UserWarning: pandas only supports SQLAlchemy connectable (engine/connection) or database string URI or sqlite3 DBAPI2 connection. Other DBAPI2 objects are not tested. Please consider using SQLAlchemy.\n",
      "  data_low_stock = pd.read_sql(query_low_stock, conn)\n"
     ]
    }
   ],
   "source": [
    "# 1. All products in the \"Dairy\" category\n",
    "query_dairy =\"SELECT * FROM freshmart_products WHERE Category = 'Dairy';\"\n",
    "data_dairy = pd.read_sql(query_dairy, conn)\n",
    "print(\"All Dairy Products:\")\n",
    "print(data_dairy.to_string(index=False))  # clean display\n",
    "\n",
    "# 2. Products with StockQuantity < 50\n",
    "query_low_stock = \"SELECT * FROM freshmart_products WHERE StockQuantity < 50;\"\n",
    "data_low_stock = pd.read_sql(query_low_stock, conn)\n",
    "print(\"\\n Products with StockQuantity < 50:\")\n",
    "print(data_low_stock.to_string(index=False))\n",
    "\n",
    "\n",
    "conn.close()"
   ]
  },
  {
   "cell_type": "code",
   "execution_count": null,
   "id": "ff094e8b-319c-4b5b-928b-eb56ac76c39b",
   "metadata": {},
   "outputs": [],
   "source": []
  }
 ],
 "metadata": {
  "kernelspec": {
   "display_name": "Python 3 (ipykernel)",
   "language": "python",
   "name": "python3"
  },
  "language_info": {
   "codemirror_mode": {
    "name": "ipython",
    "version": 3
   },
   "file_extension": ".py",
   "mimetype": "text/x-python",
   "name": "python",
   "nbconvert_exporter": "python",
   "pygments_lexer": "ipython3",
   "version": "3.12.4"
  }
 },
 "nbformat": 4,
 "nbformat_minor": 5
}
